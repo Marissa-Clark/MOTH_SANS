{
 "cells": [
  {
   "cell_type": "markdown",
   "metadata": {},
   "source": [
    "# Question:  What is the reliability of feelings across people and videos?"
   ]
  },
  {
   "cell_type": "code",
   "execution_count": 1,
   "metadata": {},
   "outputs": [
    {
     "name": "stderr",
     "output_type": "stream",
     "text": [
      "//anaconda2/envs/py3/lib/python3.7/site-packages/sklearn/externals/joblib/__init__.py:15: DeprecationWarning: sklearn.externals.joblib is deprecated in 0.21 and will be removed in 0.23. Please import this functionality directly from joblib, which can be installed with: pip install joblib. If this warning is raised when loading pickled models, you may need to re-serialize those models with scikit-learn 0.21+.\n",
      "  warnings.warn(msg, category=DeprecationWarning)\n"
     ]
    }
   ],
   "source": [
    "import numpy as np\n",
    "from nltools.data import Adjacency\n",
    "import pandas as pd\n",
    "from sklearn.metrics import pairwise_distances\n",
    "\n",
    "import matplotlib.pyplot as plt\n",
    "%matplotlib inline\n",
    "\n",
    "import matplotlib.style\n",
    "import matplotlib as mpl\n",
    "mpl.style.use('bmh')"
   ]
  },
  {
   "cell_type": "code",
   "execution_count": 2,
   "metadata": {},
   "outputs": [],
   "source": [
    "emotions = ['Afraid', 'Amused', 'Angry', 'Anxious', 'Bored', 'Disgusted',\n",
    "       'Frustrated', 'Happy', 'Hopeful', 'Inspired', 'Moved', 'Proud',\n",
    "       'Relieved', 'Sad', 'Surprised', 'Uncomfortable']\n",
    "\n",
    "stimTranslation = {\n",
    "    100 : '',\n",
    "    108 : 'Cops Dont Cry',\n",
    "    109 : 'Stranger Bonding',\n",
    "    110 : 'Mortified',\n",
    "    111 : 'Unexpected Twist',\n",
    "    112 : 'Gmarks the Spot',\n",
    "    113 : 'Finding Home',\n",
    "    114 : 'This Is Going to Suck',\n",
    "    115 : 'Best of Times',\n",
    "    116 : ''\n",
    "}\n",
    "\n",
    "emotionColors = {\n",
    "'Amused'  : (0.99,0.01,0.01),\n",
    "'Happy'  : (0.99,0.25,0.01),\n",
    "'Surprised'  : (0.99,0.44,0.01),\n",
    "'Relieved'  : (0.99,0.75,0.01),\n",
    "'Hopeful'  : (0.99,0.99,0.01),\n",
    "'Inspired'  : (0.6,0.99,0.01),\n",
    "'Proud'  : (0.01,0.99,0.56),\n",
    "'Moved'  : (0.01,0.99,0.89),\n",
    "'Sad'  : (0.01,0.79,0.99),\n",
    "'Afraid'  : (0.01,0.44,0.99),\n",
    "'Anxious'  : (0.22,0.01,0.99),\n",
    "'Uncomfortable'  : (0.68,0.01,0.99),\n",
    "'Angry'  : (0.99,0.01,0.91),\n",
    "'Frustrated'  : (0.99,0.01,0.4),\n",
    "'Disgusted' : 'brown',\n",
    "'Bored' : 'gray'}\n"
   ]
  },
  {
   "cell_type": "markdown",
   "metadata": {},
   "source": [
    "# Are feelings the same between and within videos?"
   ]
  },
  {
   "cell_type": "code",
   "execution_count": 3,
   "metadata": {
    "scrolled": false
   },
   "outputs": [],
   "source": [
    "summary=[]\n",
    "\n",
    "for stim in range(108,116):\n",
    "    emo_summary = []\n",
    "\n",
    "    for emotion in emotions:\n",
    "        data = pd.read_csv('../MothScanAnalysis/out/cf_predictions/stim-%s_emo-%s_dilation-60.csv' % (stim, emotion), index_col=0)\n",
    "        dist = Adjacency(pairwise_distances(data, metric='correlation'), matrix_type='distance')\n",
    "        sim = dist.distance_to_similarity()\n",
    "        emo_summary.append(sim.mean())\n",
    "        \n",
    "    summary.append(emo_summary)\n"
   ]
  },
  {
   "cell_type": "markdown",
   "metadata": {},
   "source": [
    "### ^---- To do: plot matrices to check that they look right ----^"
   ]
  },
  {
   "cell_type": "code",
   "execution_count": 4,
   "metadata": {},
   "outputs": [],
   "source": [
    "sdf = pd.DataFrame(summary)\n",
    "sdf.columns = emotions\n",
    "sdf = sdf.T"
   ]
  },
  {
   "cell_type": "markdown",
   "metadata": {},
   "source": [
    "## Emotions vary between participants between each video"
   ]
  },
  {
   "cell_type": "code",
   "execution_count": 5,
   "metadata": {},
   "outputs": [
    {
     "data": {
      "text/html": [
       "<div>\n",
       "<style scoped>\n",
       "    .dataframe tbody tr th:only-of-type {\n",
       "        vertical-align: middle;\n",
       "    }\n",
       "\n",
       "    .dataframe tbody tr th {\n",
       "        vertical-align: top;\n",
       "    }\n",
       "\n",
       "    .dataframe thead th {\n",
       "        text-align: right;\n",
       "    }\n",
       "</style>\n",
       "<table border=\"1\" class=\"dataframe\">\n",
       "  <thead>\n",
       "    <tr style=\"text-align: right;\">\n",
       "      <th></th>\n",
       "      <th>0</th>\n",
       "      <th>1</th>\n",
       "      <th>2</th>\n",
       "      <th>3</th>\n",
       "      <th>4</th>\n",
       "      <th>5</th>\n",
       "      <th>6</th>\n",
       "      <th>7</th>\n",
       "    </tr>\n",
       "  </thead>\n",
       "  <tbody>\n",
       "    <tr>\n",
       "      <td>Afraid</td>\n",
       "      <td>0.324331</td>\n",
       "      <td>0.426018</td>\n",
       "      <td>0.421319</td>\n",
       "      <td>0.230422</td>\n",
       "      <td>0.393393</td>\n",
       "      <td>0.190684</td>\n",
       "      <td>0.281476</td>\n",
       "      <td>0.205844</td>\n",
       "    </tr>\n",
       "    <tr>\n",
       "      <td>Amused</td>\n",
       "      <td>0.462908</td>\n",
       "      <td>0.410455</td>\n",
       "      <td>0.214263</td>\n",
       "      <td>0.130242</td>\n",
       "      <td>0.358923</td>\n",
       "      <td>0.239179</td>\n",
       "      <td>0.200108</td>\n",
       "      <td>0.298334</td>\n",
       "    </tr>\n",
       "    <tr>\n",
       "      <td>Angry</td>\n",
       "      <td>0.287604</td>\n",
       "      <td>0.588689</td>\n",
       "      <td>0.336504</td>\n",
       "      <td>0.402741</td>\n",
       "      <td>0.475394</td>\n",
       "      <td>0.168782</td>\n",
       "      <td>0.234803</td>\n",
       "      <td>0.240509</td>\n",
       "    </tr>\n",
       "    <tr>\n",
       "      <td>Anxious</td>\n",
       "      <td>0.369849</td>\n",
       "      <td>0.336701</td>\n",
       "      <td>0.222309</td>\n",
       "      <td>0.195790</td>\n",
       "      <td>0.224546</td>\n",
       "      <td>0.208784</td>\n",
       "      <td>0.296726</td>\n",
       "      <td>0.250541</td>\n",
       "    </tr>\n",
       "    <tr>\n",
       "      <td>Bored</td>\n",
       "      <td>0.267313</td>\n",
       "      <td>0.330612</td>\n",
       "      <td>0.210655</td>\n",
       "      <td>0.224645</td>\n",
       "      <td>0.339929</td>\n",
       "      <td>0.253627</td>\n",
       "      <td>0.288605</td>\n",
       "      <td>0.380990</td>\n",
       "    </tr>\n",
       "    <tr>\n",
       "      <td>Disgusted</td>\n",
       "      <td>0.341471</td>\n",
       "      <td>0.286531</td>\n",
       "      <td>0.257370</td>\n",
       "      <td>0.163414</td>\n",
       "      <td>0.353421</td>\n",
       "      <td>0.188838</td>\n",
       "      <td>0.218859</td>\n",
       "      <td>0.348191</td>\n",
       "    </tr>\n",
       "    <tr>\n",
       "      <td>Frustrated</td>\n",
       "      <td>0.211177</td>\n",
       "      <td>0.377981</td>\n",
       "      <td>0.311096</td>\n",
       "      <td>0.259193</td>\n",
       "      <td>0.324515</td>\n",
       "      <td>0.157415</td>\n",
       "      <td>0.194032</td>\n",
       "      <td>0.245244</td>\n",
       "    </tr>\n",
       "    <tr>\n",
       "      <td>Happy</td>\n",
       "      <td>0.390350</td>\n",
       "      <td>0.292028</td>\n",
       "      <td>0.174665</td>\n",
       "      <td>0.122911</td>\n",
       "      <td>0.249505</td>\n",
       "      <td>0.304972</td>\n",
       "      <td>0.258564</td>\n",
       "      <td>0.319168</td>\n",
       "    </tr>\n",
       "    <tr>\n",
       "      <td>Hopeful</td>\n",
       "      <td>0.161719</td>\n",
       "      <td>0.287041</td>\n",
       "      <td>0.183960</td>\n",
       "      <td>0.139813</td>\n",
       "      <td>0.237744</td>\n",
       "      <td>0.211018</td>\n",
       "      <td>0.206279</td>\n",
       "      <td>0.234633</td>\n",
       "    </tr>\n",
       "    <tr>\n",
       "      <td>Inspired</td>\n",
       "      <td>0.136650</td>\n",
       "      <td>0.337035</td>\n",
       "      <td>0.227806</td>\n",
       "      <td>0.225023</td>\n",
       "      <td>0.254182</td>\n",
       "      <td>0.214062</td>\n",
       "      <td>0.278874</td>\n",
       "      <td>0.186638</td>\n",
       "    </tr>\n",
       "    <tr>\n",
       "      <td>Moved</td>\n",
       "      <td>0.257271</td>\n",
       "      <td>0.314905</td>\n",
       "      <td>0.270568</td>\n",
       "      <td>0.206409</td>\n",
       "      <td>0.252279</td>\n",
       "      <td>0.183315</td>\n",
       "      <td>0.315549</td>\n",
       "      <td>0.321264</td>\n",
       "    </tr>\n",
       "    <tr>\n",
       "      <td>Proud</td>\n",
       "      <td>0.207363</td>\n",
       "      <td>0.376049</td>\n",
       "      <td>0.262403</td>\n",
       "      <td>0.255319</td>\n",
       "      <td>0.265401</td>\n",
       "      <td>0.244953</td>\n",
       "      <td>0.207111</td>\n",
       "      <td>0.223933</td>\n",
       "    </tr>\n",
       "    <tr>\n",
       "      <td>Relieved</td>\n",
       "      <td>0.224837</td>\n",
       "      <td>0.289069</td>\n",
       "      <td>0.255641</td>\n",
       "      <td>0.160778</td>\n",
       "      <td>0.267208</td>\n",
       "      <td>0.298335</td>\n",
       "      <td>0.286969</td>\n",
       "      <td>0.307204</td>\n",
       "    </tr>\n",
       "    <tr>\n",
       "      <td>Sad</td>\n",
       "      <td>0.551408</td>\n",
       "      <td>0.452663</td>\n",
       "      <td>0.378955</td>\n",
       "      <td>0.261062</td>\n",
       "      <td>0.382462</td>\n",
       "      <td>0.194237</td>\n",
       "      <td>0.238680</td>\n",
       "      <td>0.485118</td>\n",
       "    </tr>\n",
       "    <tr>\n",
       "      <td>Surprised</td>\n",
       "      <td>0.139867</td>\n",
       "      <td>0.292052</td>\n",
       "      <td>0.157248</td>\n",
       "      <td>0.122337</td>\n",
       "      <td>0.283138</td>\n",
       "      <td>0.131437</td>\n",
       "      <td>0.173419</td>\n",
       "      <td>0.175732</td>\n",
       "    </tr>\n",
       "    <tr>\n",
       "      <td>Uncomfortable</td>\n",
       "      <td>0.245347</td>\n",
       "      <td>0.277112</td>\n",
       "      <td>0.187231</td>\n",
       "      <td>0.145777</td>\n",
       "      <td>0.285183</td>\n",
       "      <td>0.147791</td>\n",
       "      <td>0.257768</td>\n",
       "      <td>0.261398</td>\n",
       "    </tr>\n",
       "  </tbody>\n",
       "</table>\n",
       "</div>"
      ],
      "text/plain": [
       "                      0         1         2         3         4         5  \\\n",
       "Afraid         0.324331  0.426018  0.421319  0.230422  0.393393  0.190684   \n",
       "Amused         0.462908  0.410455  0.214263  0.130242  0.358923  0.239179   \n",
       "Angry          0.287604  0.588689  0.336504  0.402741  0.475394  0.168782   \n",
       "Anxious        0.369849  0.336701  0.222309  0.195790  0.224546  0.208784   \n",
       "Bored          0.267313  0.330612  0.210655  0.224645  0.339929  0.253627   \n",
       "Disgusted      0.341471  0.286531  0.257370  0.163414  0.353421  0.188838   \n",
       "Frustrated     0.211177  0.377981  0.311096  0.259193  0.324515  0.157415   \n",
       "Happy          0.390350  0.292028  0.174665  0.122911  0.249505  0.304972   \n",
       "Hopeful        0.161719  0.287041  0.183960  0.139813  0.237744  0.211018   \n",
       "Inspired       0.136650  0.337035  0.227806  0.225023  0.254182  0.214062   \n",
       "Moved          0.257271  0.314905  0.270568  0.206409  0.252279  0.183315   \n",
       "Proud          0.207363  0.376049  0.262403  0.255319  0.265401  0.244953   \n",
       "Relieved       0.224837  0.289069  0.255641  0.160778  0.267208  0.298335   \n",
       "Sad            0.551408  0.452663  0.378955  0.261062  0.382462  0.194237   \n",
       "Surprised      0.139867  0.292052  0.157248  0.122337  0.283138  0.131437   \n",
       "Uncomfortable  0.245347  0.277112  0.187231  0.145777  0.285183  0.147791   \n",
       "\n",
       "                      6         7  \n",
       "Afraid         0.281476  0.205844  \n",
       "Amused         0.200108  0.298334  \n",
       "Angry          0.234803  0.240509  \n",
       "Anxious        0.296726  0.250541  \n",
       "Bored          0.288605  0.380990  \n",
       "Disgusted      0.218859  0.348191  \n",
       "Frustrated     0.194032  0.245244  \n",
       "Happy          0.258564  0.319168  \n",
       "Hopeful        0.206279  0.234633  \n",
       "Inspired       0.278874  0.186638  \n",
       "Moved          0.315549  0.321264  \n",
       "Proud          0.207111  0.223933  \n",
       "Relieved       0.286969  0.307204  \n",
       "Sad            0.238680  0.485118  \n",
       "Surprised      0.173419  0.175732  \n",
       "Uncomfortable  0.257768  0.261398  "
      ]
     },
     "execution_count": 5,
     "metadata": {},
     "output_type": "execute_result"
    }
   ],
   "source": [
    "sdf"
   ]
  },
  {
   "cell_type": "code",
   "execution_count": 6,
   "metadata": {},
   "outputs": [
    {
     "data": {
      "text/plain": [
       "Text(0.5, 1.0, 'Average Correlation by Emotion and Video')"
      ]
     },
     "execution_count": 6,
     "metadata": {},
     "output_type": "execute_result"
    },
    {
     "data": {
      "image/png": "[encoded data removed]",
      "text/plain": [
       "<Figure size 720x360 with 1 Axes>"
      ]
     },
     "metadata": {
      "needs_background": "light"
     },
     "output_type": "display_data"
    }
   ],
   "source": [
    "fig, ax = plt.subplots(ncols=1, nrows=1, figsize=(10,5))\n",
    "\n",
    "for i in range(len(sdf.index.values)): \n",
    "    emo = sdf.index.values[i]\n",
    "    plt.scatter([emo] * len(sdf.loc[emo,:]), sdf.loc[emo,:])\n",
    "    \n",
    "plt.xticks(rotation=90)\n",
    "plt.ylim(0,1)\n",
    "\n",
    "plt.title('Average Correlation by Emotion and Video')"
   ]
  },
  {
   "cell_type": "markdown",
   "metadata": {},
   "source": [
    "### ^---- To do: color by video ----^"
   ]
  },
  {
   "cell_type": "markdown",
   "metadata": {},
   "source": [
    "## Feelings vary more similarly within each video"
   ]
  },
  {
   "cell_type": "code",
   "execution_count": 7,
   "metadata": {},
   "outputs": [
    {
     "data": {
      "text/plain": [
       "Text(0.5, 1.0, 'Average Correlation by Video and Emotion')"
      ]
     },
     "execution_count": 7,
     "metadata": {},
     "output_type": "execute_result"
    },
    {
     "data": {
      "image/png": "[encoded data removed]",
      "text/plain": [
       "<Figure size 720x360 with 1 Axes>"
      ]
     },
     "metadata": {
      "needs_background": "light"
     },
     "output_type": "display_data"
    }
   ],
   "source": [
    "fig, ax = plt.subplots(ncols=1, nrows=1, figsize=(10,5))\n",
    "\n",
    "for i in range(8): \n",
    "    plt.scatter([i] * len(sdf[i]), sdf[i])\n",
    "    \n",
    "plt.ylim(0,1)\n",
    "plt.xticks(rotation=90)\n",
    "\n",
    "\n",
    "ax.set_xticklabels(list(stimTranslation.values())); \n",
    "\n",
    "plt.title('Average Correlation by Video and Emotion')"
   ]
  },
  {
   "cell_type": "markdown",
   "metadata": {},
   "source": [
    "### ^---- To do: color by emotion ----^"
   ]
  },
  {
   "cell_type": "markdown",
   "metadata": {},
   "source": [
    "# Are emotion ratings consistent overall between participants?"
   ]
  },
  {
   "cell_type": "code",
   "execution_count": 8,
   "metadata": {},
   "outputs": [],
   "source": [
    "# Getting NAN error so dropping all NA's for now\n",
    "# (will only have scan data and a few mturk participants)\n",
    "emo_summary = []\n",
    "\n",
    "for emo in emotions: \n",
    "    df = pd.DataFrame()\n",
    "\n",
    "    for stim in range(108,116): \n",
    "        df_add = pd.read_csv('./cf_data/stim-%s_emo-%s_dilation-60.csv' % (stim, emo), index_col=0).drop('Emotion', axis=1)\n",
    "        df_add = df_add.sub(df_add.mean(axis=1), axis=0)\n",
    "        df = pd.concat([df, df_add], axis=1, sort=False)\n",
    "        \n",
    "    df.dropna(inplace=True)\n",
    "    dist = Adjacency(pairwise_distances(df, metric='correlation'), matrix_type='distance')\n",
    "    sim = dist.distance_to_similarity()\n",
    "    emo_summary.append(sim)\n",
    "\n",
    "\n"
   ]
  },
  {
   "cell_type": "code",
   "execution_count": 11,
   "metadata": {},
   "outputs": [
    {
     "ename": "IndexError",
     "evalue": "too many indices for array",
     "output_type": "error",
     "traceback": [
      "\u001b[0;31m---------------------------------------------------------------------------\u001b[0m",
      "\u001b[0;31mIndexError\u001b[0m                                Traceback (most recent call last)",
      "\u001b[0;32m<ipython-input-11-6a6029992cc3>\u001b[0m in \u001b[0;36m<module>\u001b[0;34m\u001b[0m\n\u001b[0;32m----> 1\u001b[0;31m \u001b[0mconcat\u001b[0m \u001b[0;34m=\u001b[0m \u001b[0mpd\u001b[0m\u001b[0;34m.\u001b[0m\u001b[0mDataFrame\u001b[0m\u001b[0;34m(\u001b[0m\u001b[0memo_summary\u001b[0m\u001b[0;34m)\u001b[0m\u001b[0;34m.\u001b[0m\u001b[0mT\u001b[0m\u001b[0;34m\u001b[0m\u001b[0;34m\u001b[0m\u001b[0m\n\u001b[0m\u001b[1;32m      2\u001b[0m \u001b[0mconcat\u001b[0m\u001b[0;34m.\u001b[0m\u001b[0mcolumns\u001b[0m \u001b[0;34m=\u001b[0m \u001b[0memotions\u001b[0m\u001b[0;34m\u001b[0m\u001b[0;34m\u001b[0m\u001b[0m\n\u001b[1;32m      3\u001b[0m \u001b[0;34m\u001b[0m\u001b[0m\n\u001b[1;32m      4\u001b[0m \u001b[0memo_summary\u001b[0m\u001b[0;34m[\u001b[0m\u001b[0;36m0\u001b[0m\u001b[0;34m]\u001b[0m\u001b[0;34m.\u001b[0m\u001b[0mvalues\u001b[0m\u001b[0;34m(\u001b[0m\u001b[0;34m)\u001b[0m\u001b[0;34m\u001b[0m\u001b[0;34m\u001b[0m\u001b[0m\n",
      "\u001b[0;32m//anaconda2/envs/py3/lib/python3.7/site-packages/pandas/core/frame.py\u001b[0m in \u001b[0;36m__init__\u001b[0;34m(self, data, index, columns, dtype, copy)\u001b[0m\n\u001b[1;32m    448\u001b[0m                     \u001b[0;32mif\u001b[0m \u001b[0mis_named_tuple\u001b[0m\u001b[0;34m(\u001b[0m\u001b[0mdata\u001b[0m\u001b[0;34m[\u001b[0m\u001b[0;36m0\u001b[0m\u001b[0;34m]\u001b[0m\u001b[0;34m)\u001b[0m \u001b[0;32mand\u001b[0m \u001b[0mcolumns\u001b[0m \u001b[0;32mis\u001b[0m \u001b[0;32mNone\u001b[0m\u001b[0;34m:\u001b[0m\u001b[0;34m\u001b[0m\u001b[0;34m\u001b[0m\u001b[0m\n\u001b[1;32m    449\u001b[0m                         \u001b[0mcolumns\u001b[0m \u001b[0;34m=\u001b[0m \u001b[0mdata\u001b[0m\u001b[0;34m[\u001b[0m\u001b[0;36m0\u001b[0m\u001b[0;34m]\u001b[0m\u001b[0;34m.\u001b[0m\u001b[0m_fields\u001b[0m\u001b[0;34m\u001b[0m\u001b[0;34m\u001b[0m\u001b[0m\n\u001b[0;32m--> 450\u001b[0;31m                     \u001b[0marrays\u001b[0m\u001b[0;34m,\u001b[0m \u001b[0mcolumns\u001b[0m \u001b[0;34m=\u001b[0m \u001b[0mto_arrays\u001b[0m\u001b[0;34m(\u001b[0m\u001b[0mdata\u001b[0m\u001b[0;34m,\u001b[0m \u001b[0mcolumns\u001b[0m\u001b[0;34m,\u001b[0m \u001b[0mdtype\u001b[0m\u001b[0;34m=\u001b[0m\u001b[0mdtype\u001b[0m\u001b[0;34m)\u001b[0m\u001b[0;34m\u001b[0m\u001b[0;34m\u001b[0m\u001b[0m\n\u001b[0m\u001b[1;32m    451\u001b[0m                     \u001b[0mcolumns\u001b[0m \u001b[0;34m=\u001b[0m \u001b[0mensure_index\u001b[0m\u001b[0;34m(\u001b[0m\u001b[0mcolumns\u001b[0m\u001b[0;34m)\u001b[0m\u001b[0;34m\u001b[0m\u001b[0;34m\u001b[0m\u001b[0m\n\u001b[1;32m    452\u001b[0m \u001b[0;34m\u001b[0m\u001b[0m\n",
      "\u001b[0;32m//anaconda2/envs/py3/lib/python3.7/site-packages/pandas/core/internals/construction.py\u001b[0m in \u001b[0;36mto_arrays\u001b[0;34m(data, columns, coerce_float, dtype)\u001b[0m\n\u001b[1;32m    485\u001b[0m     \u001b[0;32melse\u001b[0m\u001b[0;34m:\u001b[0m\u001b[0;34m\u001b[0m\u001b[0;34m\u001b[0m\u001b[0m\n\u001b[1;32m    486\u001b[0m         \u001b[0;31m# last ditch effort\u001b[0m\u001b[0;34m\u001b[0m\u001b[0;34m\u001b[0m\u001b[0;34m\u001b[0m\u001b[0m\n\u001b[0;32m--> 487\u001b[0;31m         \u001b[0mdata\u001b[0m \u001b[0;34m=\u001b[0m \u001b[0;34m[\u001b[0m\u001b[0mtuple\u001b[0m\u001b[0;34m(\u001b[0m\u001b[0mx\u001b[0m\u001b[0;34m)\u001b[0m \u001b[0;32mfor\u001b[0m \u001b[0mx\u001b[0m \u001b[0;32min\u001b[0m \u001b[0mdata\u001b[0m\u001b[0;34m]\u001b[0m\u001b[0;34m\u001b[0m\u001b[0;34m\u001b[0m\u001b[0m\n\u001b[0m\u001b[1;32m    488\u001b[0m         \u001b[0;32mreturn\u001b[0m \u001b[0m_list_to_arrays\u001b[0m\u001b[0;34m(\u001b[0m\u001b[0mdata\u001b[0m\u001b[0;34m,\u001b[0m \u001b[0mcolumns\u001b[0m\u001b[0;34m,\u001b[0m \u001b[0mcoerce_float\u001b[0m\u001b[0;34m=\u001b[0m\u001b[0mcoerce_float\u001b[0m\u001b[0;34m,\u001b[0m \u001b[0mdtype\u001b[0m\u001b[0;34m=\u001b[0m\u001b[0mdtype\u001b[0m\u001b[0;34m)\u001b[0m\u001b[0;34m\u001b[0m\u001b[0;34m\u001b[0m\u001b[0m\n\u001b[1;32m    489\u001b[0m \u001b[0;34m\u001b[0m\u001b[0m\n",
      "\u001b[0;32m//anaconda2/envs/py3/lib/python3.7/site-packages/pandas/core/internals/construction.py\u001b[0m in \u001b[0;36m<listcomp>\u001b[0;34m(.0)\u001b[0m\n\u001b[1;32m    485\u001b[0m     \u001b[0;32melse\u001b[0m\u001b[0;34m:\u001b[0m\u001b[0;34m\u001b[0m\u001b[0;34m\u001b[0m\u001b[0m\n\u001b[1;32m    486\u001b[0m         \u001b[0;31m# last ditch effort\u001b[0m\u001b[0;34m\u001b[0m\u001b[0;34m\u001b[0m\u001b[0;34m\u001b[0m\u001b[0m\n\u001b[0;32m--> 487\u001b[0;31m         \u001b[0mdata\u001b[0m \u001b[0;34m=\u001b[0m \u001b[0;34m[\u001b[0m\u001b[0mtuple\u001b[0m\u001b[0;34m(\u001b[0m\u001b[0mx\u001b[0m\u001b[0;34m)\u001b[0m \u001b[0;32mfor\u001b[0m \u001b[0mx\u001b[0m \u001b[0;32min\u001b[0m \u001b[0mdata\u001b[0m\u001b[0;34m]\u001b[0m\u001b[0;34m\u001b[0m\u001b[0;34m\u001b[0m\u001b[0m\n\u001b[0m\u001b[1;32m    488\u001b[0m         \u001b[0;32mreturn\u001b[0m \u001b[0m_list_to_arrays\u001b[0m\u001b[0;34m(\u001b[0m\u001b[0mdata\u001b[0m\u001b[0;34m,\u001b[0m \u001b[0mcolumns\u001b[0m\u001b[0;34m,\u001b[0m \u001b[0mcoerce_float\u001b[0m\u001b[0;34m=\u001b[0m\u001b[0mcoerce_float\u001b[0m\u001b[0;34m,\u001b[0m \u001b[0mdtype\u001b[0m\u001b[0;34m=\u001b[0m\u001b[0mdtype\u001b[0m\u001b[0;34m)\u001b[0m\u001b[0;34m\u001b[0m\u001b[0;34m\u001b[0m\u001b[0m\n\u001b[1;32m    489\u001b[0m \u001b[0;34m\u001b[0m\u001b[0m\n",
      "\u001b[0;32m//anaconda2/envs/py3/lib/python3.7/site-packages/nltools/data/adjacency.py\u001b[0m in \u001b[0;36m__iter__\u001b[0;34m(self)\u001b[0m\n\u001b[1;32m    169\u001b[0m     \u001b[0;32mdef\u001b[0m \u001b[0m__iter__\u001b[0m\u001b[0;34m(\u001b[0m\u001b[0mself\u001b[0m\u001b[0;34m)\u001b[0m\u001b[0;34m:\u001b[0m\u001b[0;34m\u001b[0m\u001b[0;34m\u001b[0m\u001b[0m\n\u001b[1;32m    170\u001b[0m         \u001b[0;32mfor\u001b[0m \u001b[0mx\u001b[0m \u001b[0;32min\u001b[0m \u001b[0mrange\u001b[0m\u001b[0;34m(\u001b[0m\u001b[0mlen\u001b[0m\u001b[0;34m(\u001b[0m\u001b[0mself\u001b[0m\u001b[0;34m)\u001b[0m\u001b[0;34m)\u001b[0m\u001b[0;34m:\u001b[0m\u001b[0;34m\u001b[0m\u001b[0;34m\u001b[0m\u001b[0m\n\u001b[0;32m--> 171\u001b[0;31m             \u001b[0;32myield\u001b[0m \u001b[0mself\u001b[0m\u001b[0;34m[\u001b[0m\u001b[0mx\u001b[0m\u001b[0;34m]\u001b[0m\u001b[0;34m\u001b[0m\u001b[0;34m\u001b[0m\u001b[0m\n\u001b[0m\u001b[1;32m    172\u001b[0m \u001b[0;34m\u001b[0m\u001b[0m\n\u001b[1;32m    173\u001b[0m     \u001b[0;32mdef\u001b[0m \u001b[0m__add__\u001b[0m\u001b[0;34m(\u001b[0m\u001b[0mself\u001b[0m\u001b[0;34m,\u001b[0m \u001b[0my\u001b[0m\u001b[0;34m)\u001b[0m\u001b[0;34m:\u001b[0m\u001b[0;34m\u001b[0m\u001b[0;34m\u001b[0m\u001b[0m\n",
      "\u001b[0;32m//anaconda2/envs/py3/lib/python3.7/site-packages/nltools/data/adjacency.py\u001b[0m in \u001b[0;36m__getitem__\u001b[0;34m(self, index)\u001b[0m\n\u001b[1;32m    153\u001b[0m         \u001b[0mnew\u001b[0m \u001b[0;34m=\u001b[0m \u001b[0mself\u001b[0m\u001b[0;34m.\u001b[0m\u001b[0mcopy\u001b[0m\u001b[0;34m(\u001b[0m\u001b[0;34m)\u001b[0m\u001b[0;34m\u001b[0m\u001b[0;34m\u001b[0m\u001b[0m\n\u001b[1;32m    154\u001b[0m         \u001b[0;32mif\u001b[0m \u001b[0misinstance\u001b[0m\u001b[0;34m(\u001b[0m\u001b[0mindex\u001b[0m\u001b[0;34m,\u001b[0m \u001b[0mint\u001b[0m\u001b[0;34m)\u001b[0m\u001b[0;34m:\u001b[0m\u001b[0;34m\u001b[0m\u001b[0;34m\u001b[0m\u001b[0m\n\u001b[0;32m--> 155\u001b[0;31m             \u001b[0mnew\u001b[0m\u001b[0;34m.\u001b[0m\u001b[0mdata\u001b[0m \u001b[0;34m=\u001b[0m \u001b[0mnp\u001b[0m\u001b[0;34m.\u001b[0m\u001b[0marray\u001b[0m\u001b[0;34m(\u001b[0m\u001b[0mself\u001b[0m\u001b[0;34m.\u001b[0m\u001b[0mdata\u001b[0m\u001b[0;34m[\u001b[0m\u001b[0mindex\u001b[0m\u001b[0;34m,\u001b[0m \u001b[0;34m:\u001b[0m\u001b[0;34m]\u001b[0m\u001b[0;34m)\u001b[0m\u001b[0;34m.\u001b[0m\u001b[0mflatten\u001b[0m\u001b[0;34m(\u001b[0m\u001b[0;34m)\u001b[0m\u001b[0;34m\u001b[0m\u001b[0;34m\u001b[0m\u001b[0m\n\u001b[0m\u001b[1;32m    156\u001b[0m             \u001b[0mnew\u001b[0m\u001b[0;34m.\u001b[0m\u001b[0mis_single_matrix\u001b[0m \u001b[0;34m=\u001b[0m \u001b[0;32mTrue\u001b[0m\u001b[0;34m\u001b[0m\u001b[0;34m\u001b[0m\u001b[0m\n\u001b[1;32m    157\u001b[0m         \u001b[0;32melse\u001b[0m\u001b[0;34m:\u001b[0m\u001b[0;34m\u001b[0m\u001b[0;34m\u001b[0m\u001b[0m\n",
      "\u001b[0;31mIndexError\u001b[0m: too many indices for array"
     ]
    }
   ],
   "source": [
    "concat = pd.DataFrame(emo_summary).T\n",
    "concat.columns = emotions\n",
    "\n",
    "emo_summary[0].values()"
   ]
  },
  {
   "cell_type": "code",
   "execution_count": 10,
   "metadata": {},
   "outputs": [
    {
     "ename": "NameError",
     "evalue": "name 'concat' is not defined",
     "output_type": "error",
     "traceback": [
      "\u001b[0;31m---------------------------------------------------------------------------\u001b[0m",
      "\u001b[0;31mNameError\u001b[0m                                 Traceback (most recent call last)",
      "\u001b[0;32m<ipython-input-10-b17c4a9b9f70>\u001b[0m in \u001b[0;36m<module>\u001b[0;34m\u001b[0m\n\u001b[1;32m      1\u001b[0m \u001b[0mfig\u001b[0m\u001b[0;34m,\u001b[0m \u001b[0max\u001b[0m \u001b[0;34m=\u001b[0m \u001b[0mplt\u001b[0m\u001b[0;34m.\u001b[0m\u001b[0msubplots\u001b[0m\u001b[0;34m(\u001b[0m\u001b[0mncols\u001b[0m\u001b[0;34m=\u001b[0m\u001b[0;36m1\u001b[0m\u001b[0;34m,\u001b[0m \u001b[0mnrows\u001b[0m\u001b[0;34m=\u001b[0m\u001b[0;36m1\u001b[0m\u001b[0;34m,\u001b[0m \u001b[0mfigsize\u001b[0m\u001b[0;34m=\u001b[0m\u001b[0;34m(\u001b[0m\u001b[0;36m10\u001b[0m\u001b[0;34m,\u001b[0m\u001b[0;36m5\u001b[0m\u001b[0;34m)\u001b[0m\u001b[0;34m)\u001b[0m\u001b[0;34m\u001b[0m\u001b[0;34m\u001b[0m\u001b[0m\n\u001b[0;32m----> 2\u001b[0;31m \u001b[0mplt\u001b[0m\u001b[0;34m.\u001b[0m\u001b[0mscatter\u001b[0m\u001b[0;34m(\u001b[0m\u001b[0mconcat\u001b[0m\u001b[0;34m.\u001b[0m\u001b[0mcolumns\u001b[0m\u001b[0;34m.\u001b[0m\u001b[0mvalues\u001b[0m\u001b[0;34m,\u001b[0m \u001b[0mconcat\u001b[0m\u001b[0;34m)\u001b[0m\u001b[0;34m\u001b[0m\u001b[0;34m\u001b[0m\u001b[0m\n\u001b[0m\u001b[1;32m      3\u001b[0m \u001b[0mplt\u001b[0m\u001b[0;34m.\u001b[0m\u001b[0mylim\u001b[0m\u001b[0;34m(\u001b[0m\u001b[0;36m0\u001b[0m\u001b[0;34m,\u001b[0m\u001b[0;36m1\u001b[0m\u001b[0;34m)\u001b[0m\u001b[0;34m\u001b[0m\u001b[0;34m\u001b[0m\u001b[0m\n\u001b[1;32m      4\u001b[0m \u001b[0mplt\u001b[0m\u001b[0;34m.\u001b[0m\u001b[0mxticks\u001b[0m\u001b[0;34m(\u001b[0m\u001b[0mrotation\u001b[0m\u001b[0;34m=\u001b[0m\u001b[0;36m90\u001b[0m\u001b[0;34m)\u001b[0m\u001b[0;34m;\u001b[0m\u001b[0;34m\u001b[0m\u001b[0;34m\u001b[0m\u001b[0m\n\u001b[1;32m      5\u001b[0m \u001b[0mplt\u001b[0m\u001b[0;34m.\u001b[0m\u001b[0mtitle\u001b[0m\u001b[0;34m(\u001b[0m\u001b[0;34m'Average Correlation by Video (concatenated participants)'\u001b[0m\u001b[0;34m)\u001b[0m\u001b[0;34m\u001b[0m\u001b[0;34m\u001b[0m\u001b[0m\n",
      "\u001b[0;31mNameError\u001b[0m: name 'concat' is not defined"
     ]
    },
    {
     "data": {
      "image/png": "[encoded data removed]",
      "text/plain": [
       "<Figure size 720x360 with 1 Axes>"
      ]
     },
     "metadata": {
      "needs_background": "light"
     },
     "output_type": "display_data"
    }
   ],
   "source": [
    "fig, ax = plt.subplots(ncols=1, nrows=1, figsize=(10,5))\n",
    "plt.scatter(concat.columns.values, concat)\n",
    "plt.ylim(0,1)\n",
    "plt.xticks(rotation=90);\n",
    "plt.title('Average Correlation by Video (concatenated participants)')"
   ]
  },
  {
   "cell_type": "code",
   "execution_count": null,
   "metadata": {},
   "outputs": [],
   "source": [
    "np.array(concat.iloc[0,:]).std()"
   ]
  },
  {
   "cell_type": "code",
   "execution_count": null,
   "metadata": {},
   "outputs": [],
   "source": []
  }
 ],
 "metadata": {
  "kernelspec": {
   "display_name": "Python 3",
   "language": "python",
   "name": "python3"
  },
  "language_info": {
   "codemirror_mode": {
    "name": "ipython",
    "version": 3
   },
   "file_extension": ".py",
   "mimetype": "text/x-python",
   "name": "python",
   "nbconvert_exporter": "python",
   "pygments_lexer": "ipython3",
   "version": "3.7.4"
  }
 },
 "nbformat": 4,
 "nbformat_minor": 2
}
