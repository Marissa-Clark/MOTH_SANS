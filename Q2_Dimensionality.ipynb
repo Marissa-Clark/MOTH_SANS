{
 "cells": [
  {
   "cell_type": "markdown",
   "metadata": {},
   "source": [
    "# Question: What is the actual dimensionality of emotions"
   ]
  },
  {
   "cell_type": "code",
   "execution_count": 1,
   "metadata": {},
   "outputs": [
    {
     "name": "stderr",
     "output_type": "stream",
     "text": [
      "//anaconda2/envs/py3/lib/python3.7/site-packages/sklearn/externals/joblib/__init__.py:15: DeprecationWarning: sklearn.externals.joblib is deprecated in 0.21 and will be removed in 0.23. Please import this functionality directly from joblib, which can be installed with: pip install joblib. If this warning is raised when loading pickled models, you may need to re-serialize those models with scikit-learn 0.21+.\n",
      "  warnings.warn(msg, category=DeprecationWarning)\n"
     ]
    }
   ],
   "source": [
    "import numpy as np\n",
    "from nltools.data import Adjacency\n",
    "import pandas as pd\n",
    "from sklearn.metrics import pairwise_distances\n",
    "from sklearn.decomposition import PCA\n",
    "\n",
    "import matplotlib.pyplot as plt\n",
    "%matplotlib inline\n",
    "\n",
    "import matplotlib.style\n",
    "import matplotlib as mpl\n",
    "mpl.style.use('bmh')"
   ]
  },
  {
   "cell_type": "code",
   "execution_count": 2,
   "metadata": {},
   "outputs": [],
   "source": [
    "emotions = ['Afraid', 'Amused', 'Angry', 'Anxious', 'Bored', 'Disgusted',\n",
    "       'Frustrated', 'Happy', 'Hopeful', 'Inspired', 'Moved', 'Proud',\n",
    "       'Relieved', 'Sad', 'Surprised', 'Uncomfortable']"
   ]
  },
  {
   "cell_type": "code",
   "execution_count": 3,
   "metadata": {},
   "outputs": [],
   "source": [
    "# Getting NAN error so dropping all NA's for now\n",
    "# (will only have scan data and a few mturk participants)\n",
    "p_emo_summary = pd.DataFrame()\n",
    "\n",
    "for emo in emotions: \n",
    "    df = pd.DataFrame()\n",
    "\n",
    "    for stim in range(108,116): \n",
    "        df_add = pd.read_csv('./cf_data/stim-%s_emo-%s_dilation-60.csv' % (stim, emo), index_col=0).drop('Emotion', axis=1)\n",
    "        df_add = df_add.sub(df_add.mean(axis=1), axis=0) #Demean data\n",
    "        df = pd.concat([df, df_add], axis=1, sort=False) #Concat\n",
    "        \n",
    "    df.dropna(inplace=True)\n",
    "    p_emo_summary = p_emo_summary.append(df)\n"
   ]
  },
  {
   "cell_type": "code",
   "execution_count": 4,
   "metadata": {},
   "outputs": [],
   "source": [
    "n_component_count = []\n",
    "\n",
    "for participant in list(set(p_emo_summary.index.values)): \n",
    "    p = p_emo_summary.loc[participant,:]\n",
    "    p.index = emotions\n",
    "    pca = PCA(n_components = .90)\n",
    "    pca.fit(p)\n",
    "    cum_sum = pca.explained_variance_ratio_.cumsum()\n",
    "    n_components = len(pca.explained_variance_ratio_.cumsum())\n",
    "    n_component_count.append(n_components)"
   ]
  },
  {
   "cell_type": "code",
   "execution_count": 5,
   "metadata": {},
   "outputs": [
    {
     "data": {
      "image/png": "[encoded data removed]",
      "text/plain": [
       "<Figure size 720x360 with 1 Axes>"
      ]
     },
     "metadata": {
      "needs_background": "light"
     },
     "output_type": "display_data"
    }
   ],
   "source": [
    "fig, ax = plt.subplots(ncols=1, nrows=1, figsize=(10,5))\n",
    "\n",
    "plt.hist(n_component_count, bins=5);"
   ]
  }
 ],
 "metadata": {
  "kernelspec": {
   "display_name": "Python 3",
   "language": "python",
   "name": "python3"
  },
  "language_info": {
   "codemirror_mode": {
    "name": "ipython",
    "version": 3
   },
   "file_extension": ".py",
   "mimetype": "text/x-python",
   "name": "python",
   "nbconvert_exporter": "python",
   "pygments_lexer": "ipython3",
   "version": "3.7.4"
  }
 },
 "nbformat": 4,
 "nbformat_minor": 2
}
